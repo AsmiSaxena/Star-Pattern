{
  "nbformat": 4,
  "nbformat_minor": 0,
  "metadata": {
    "colab": {
      "provenance": []
    },
    "kernelspec": {
      "name": "python3",
      "display_name": "Python 3"
    },
    "language_info": {
      "name": "python"
    }
  },
  "cells": [
    {
      "cell_type": "markdown",
      "source": [
        "Lower Triangular"
      ],
      "metadata": {
        "id": "ON1dg2GnYzn2"
      }
    },
    {
      "cell_type": "code",
      "source": [
        "n = int(input('Enter the number of rows:'))\n",
        "for i in range(n):\n",
        "  for j in range(i+1):\n",
        "    print('*',end=' ')\n",
        "  print()"
      ],
      "metadata": {
        "colab": {
          "base_uri": "https://localhost:8080/"
        },
        "id": "eKp2SFnXZb8d",
        "outputId": "5b233326-9443-442a-dbf1-b248951a9da8"
      },
      "execution_count": null,
      "outputs": [
        {
          "output_type": "stream",
          "name": "stdout",
          "text": [
            "Enter the number of rows:5\n",
            "* \n",
            "* * \n",
            "* * * \n",
            "* * * * \n",
            "* * * * * \n"
          ]
        }
      ]
    },
    {
      "cell_type": "markdown",
      "source": [
        "Upper Triangular"
      ],
      "metadata": {
        "id": "2tcWCBmAaJKR"
      }
    },
    {
      "cell_type": "code",
      "source": [
        "n = int(input('Enter the number of rows:'))\n",
        "for i in range(n):\n",
        "  for j in range(n-i):\n",
        "    print('*',end=' ')\n",
        "  print()"
      ],
      "metadata": {
        "colab": {
          "base_uri": "https://localhost:8080/"
        },
        "id": "eKzBi1KkaMX9",
        "outputId": "4af08f09-ebc8-4807-8618-d971ed822457"
      },
      "execution_count": null,
      "outputs": [
        {
          "output_type": "stream",
          "name": "stdout",
          "text": [
            "Enter the number of rows:5\n",
            "* * * * * \n",
            "* * * * \n",
            "* * * \n",
            "* * \n",
            "* \n"
          ]
        }
      ]
    },
    {
      "cell_type": "markdown",
      "source": [
        "Pyramid"
      ],
      "metadata": {
        "id": "eIC_VMR9aV6q"
      }
    },
    {
      "cell_type": "code",
      "source": [
        "n = int(input(\"Enter the number of rows: \"))\n",
        "\n",
        "for i in range(n):\n",
        "    for j in range(n-i-1):\n",
        "        print(\" \", end=\"\")\n",
        "    for j in range(2*i+1):\n",
        "        print(\"*\", end=\"\")\n",
        "    print()\n"
      ],
      "metadata": {
        "id": "gPM-4xz1aZEj",
        "colab": {
          "base_uri": "https://localhost:8080/"
        },
        "outputId": "f2f122a8-29b0-4996-e6fa-b47695ae5e4d"
      },
      "execution_count": null,
      "outputs": [
        {
          "output_type": "stream",
          "name": "stdout",
          "text": [
            "Enter the number of rows: 5\n",
            "    *\n",
            "   ***\n",
            "  *****\n",
            " *******\n",
            "*********\n"
          ]
        }
      ]
    },
    {
      "cell_type": "code",
      "source": [],
      "metadata": {
        "id": "fr0dWtXHacva"
      },
      "execution_count": null,
      "outputs": []
    }
  ]
}